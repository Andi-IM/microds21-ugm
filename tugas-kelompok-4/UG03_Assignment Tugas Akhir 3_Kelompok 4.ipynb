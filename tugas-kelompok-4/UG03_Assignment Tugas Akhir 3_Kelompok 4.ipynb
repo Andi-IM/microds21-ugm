{
  "nbformat": 4,
  "nbformat_minor": 5,
  "metadata": {
    "kernelspec": {
      "display_name": "Python 3 (ipykernel)",
      "language": "python",
      "name": "python3"
    },
    "language_info": {
      "codemirror_mode": {
        "name": "ipython",
        "version": 3
      },
      "file_extension": ".py",
      "mimetype": "text/x-python",
      "name": "python",
      "nbconvert_exporter": "python",
      "pygments_lexer": "ipython3",
      "version": "3.9.5"
    },
    "colab": {
      "name": "Tugas Kelompok 4 Microcredential UGM.ipynb",
      "provenance": [],
      "collapsed_sections": []
    }
  },
  "cells": [
    {
      "cell_type": "markdown",
      "metadata": {
        "id": "129453c2"
      },
      "source": [
        "## Mengambil Data"
      ],
      "id": "129453c2"
    },
    {
      "cell_type": "code",
      "metadata": {
        "id": "42819546"
      },
      "source": [
        "# import library\n",
        "import pandas as pd\n",
        "import numpy as np"
      ],
      "id": "42819546",
      "execution_count": 1,
      "outputs": []
    },
    {
      "cell_type": "code",
      "metadata": {
        "id": "5b91c7dc"
      },
      "source": [
        "# load dataset \n",
        "path = \"data-kasus-penyakit-menular-bulan-maret-tahun-2018.csv\"\n",
        "data1 = pd.read_csv(path)\n",
        "\n",
        "path2 = \"data-kasus-penyakit-menular-bulan-september-tahun-2018.csv\"\n",
        "data2 = pd.read_csv(path2)\n",
        "\n",
        "path3 = \"data-kasus-penyakit-menular-bulan-desember-tahun-2018.csv\"\n",
        "data3 = pd.read_csv(path3)\n",
        "\n",
        "# menggabungkan semua data yang didapatkan dari 3 file dataset\n",
        "data = pd.concat([data1,data2,data3]).drop_duplicates()   "
      ],
      "id": "5b91c7dc",
      "execution_count": 2,
      "outputs": []
    },
    {
      "cell_type": "code",
      "metadata": {
        "colab": {
          "base_uri": "https://localhost:8080/",
          "height": 300
        },
        "id": "1386ab5e",
        "outputId": "2f5e6855-4f68-4f6f-a898-047aaad4e1f6"
      },
      "source": [
        "# menampilkan statistik data secara umum\n",
        "data.describe()"
      ],
      "id": "1386ab5e",
      "execution_count": 3,
      "outputs": [
        {
          "output_type": "execute_result",
          "data": {
            "text/html": [
              "<div>\n",
              "<style scoped>\n",
              "    .dataframe tbody tr th:only-of-type {\n",
              "        vertical-align: middle;\n",
              "    }\n",
              "\n",
              "    .dataframe tbody tr th {\n",
              "        vertical-align: top;\n",
              "    }\n",
              "\n",
              "    .dataframe thead th {\n",
              "        text-align: right;\n",
              "    }\n",
              "</style>\n",
              "<table border=\"1\" class=\"dataframe\">\n",
              "  <thead>\n",
              "    <tr style=\"text-align: right;\">\n",
              "      <th></th>\n",
              "      <th>tahun</th>\n",
              "      <th>bulan</th>\n",
              "      <th>tahun</th>\n",
              "    </tr>\n",
              "  </thead>\n",
              "  <tbody>\n",
              "    <tr>\n",
              "      <th>count</th>\n",
              "      <td>60.0</td>\n",
              "      <td>90.000000</td>\n",
              "      <td>30.0</td>\n",
              "    </tr>\n",
              "    <tr>\n",
              "      <th>mean</th>\n",
              "      <td>2018.0</td>\n",
              "      <td>8.000000</td>\n",
              "      <td>2018.0</td>\n",
              "    </tr>\n",
              "    <tr>\n",
              "      <th>std</th>\n",
              "      <td>0.0</td>\n",
              "      <td>3.762619</td>\n",
              "      <td>0.0</td>\n",
              "    </tr>\n",
              "    <tr>\n",
              "      <th>min</th>\n",
              "      <td>2018.0</td>\n",
              "      <td>3.000000</td>\n",
              "      <td>2018.0</td>\n",
              "    </tr>\n",
              "    <tr>\n",
              "      <th>25%</th>\n",
              "      <td>2018.0</td>\n",
              "      <td>3.000000</td>\n",
              "      <td>2018.0</td>\n",
              "    </tr>\n",
              "    <tr>\n",
              "      <th>50%</th>\n",
              "      <td>2018.0</td>\n",
              "      <td>9.000000</td>\n",
              "      <td>2018.0</td>\n",
              "    </tr>\n",
              "    <tr>\n",
              "      <th>75%</th>\n",
              "      <td>2018.0</td>\n",
              "      <td>12.000000</td>\n",
              "      <td>2018.0</td>\n",
              "    </tr>\n",
              "    <tr>\n",
              "      <th>max</th>\n",
              "      <td>2018.0</td>\n",
              "      <td>12.000000</td>\n",
              "      <td>2018.0</td>\n",
              "    </tr>\n",
              "  </tbody>\n",
              "</table>\n",
              "</div>"
            ],
            "text/plain": [
              "       tahun       bulan   tahun\n",
              "count    60.0  90.000000    30.0\n",
              "mean   2018.0   8.000000  2018.0\n",
              "std       0.0   3.762619     0.0\n",
              "min    2018.0   3.000000  2018.0\n",
              "25%    2018.0   3.000000  2018.0\n",
              "50%    2018.0   9.000000  2018.0\n",
              "75%    2018.0  12.000000  2018.0\n",
              "max    2018.0  12.000000  2018.0"
            ]
          },
          "metadata": {},
          "execution_count": 3
        }
      ]
    },
    {
      "cell_type": "code",
      "metadata": {
        "colab": {
          "base_uri": "https://localhost:8080/",
          "height": 206
        },
        "id": "b3dcd9f0",
        "outputId": "af07a890-1c1b-4509-9a1e-e434dce73945"
      },
      "source": [
        "# memunculkan 5 data awal\n",
        "data.head()"
      ],
      "id": "b3dcd9f0",
      "execution_count": 4,
      "outputs": [
        {
          "output_type": "execute_result",
          "data": {
            "text/html": [
              "<div>\n",
              "<style scoped>\n",
              "    .dataframe tbody tr th:only-of-type {\n",
              "        vertical-align: middle;\n",
              "    }\n",
              "\n",
              "    .dataframe tbody tr th {\n",
              "        vertical-align: top;\n",
              "    }\n",
              "\n",
              "    .dataframe thead th {\n",
              "        text-align: right;\n",
              "    }\n",
              "</style>\n",
              "<table border=\"1\" class=\"dataframe\">\n",
              "  <thead>\n",
              "    <tr style=\"text-align: right;\">\n",
              "      <th></th>\n",
              "      <th>tahun</th>\n",
              "      <th>bulan</th>\n",
              "      <th>wilayah</th>\n",
              "      <th>jenis_penyakit</th>\n",
              "      <th>jumlah</th>\n",
              "      <th>tahun</th>\n",
              "    </tr>\n",
              "  </thead>\n",
              "  <tbody>\n",
              "    <tr>\n",
              "      <th>0</th>\n",
              "      <td>2018.0</td>\n",
              "      <td>3</td>\n",
              "      <td>Wilayah Jakarta Pusat</td>\n",
              "      <td>TB</td>\n",
              "      <td>129</td>\n",
              "      <td>NaN</td>\n",
              "    </tr>\n",
              "    <tr>\n",
              "      <th>1</th>\n",
              "      <td>2018.0</td>\n",
              "      <td>3</td>\n",
              "      <td>Wilayah Jakarta Pusat</td>\n",
              "      <td>DBD</td>\n",
              "      <td>8</td>\n",
              "      <td>NaN</td>\n",
              "    </tr>\n",
              "    <tr>\n",
              "      <th>2</th>\n",
              "      <td>2018.0</td>\n",
              "      <td>3</td>\n",
              "      <td>Wilayah Jakarta Pusat</td>\n",
              "      <td>Difteri</td>\n",
              "      <td>6</td>\n",
              "      <td>NaN</td>\n",
              "    </tr>\n",
              "    <tr>\n",
              "      <th>3</th>\n",
              "      <td>2018.0</td>\n",
              "      <td>3</td>\n",
              "      <td>Wilayah Jakarta Pusat</td>\n",
              "      <td>HIV</td>\n",
              "      <td>2240</td>\n",
              "      <td>NaN</td>\n",
              "    </tr>\n",
              "    <tr>\n",
              "      <th>4</th>\n",
              "      <td>2018.0</td>\n",
              "      <td>3</td>\n",
              "      <td>Wilayah Jakarta Pusat</td>\n",
              "      <td>AIDS</td>\n",
              "      <td>279</td>\n",
              "      <td>NaN</td>\n",
              "    </tr>\n",
              "  </tbody>\n",
              "</table>\n",
              "</div>"
            ],
            "text/plain": [
              "   tahun   bulan                wilayah jenis_penyakit jumlah  tahun\n",
              "0  2018.0      3  Wilayah Jakarta Pusat             TB    129    NaN\n",
              "1  2018.0      3  Wilayah Jakarta Pusat            DBD      8    NaN\n",
              "2  2018.0      3  Wilayah Jakarta Pusat        Difteri      6    NaN\n",
              "3  2018.0      3  Wilayah Jakarta Pusat           HIV    2240    NaN\n",
              "4  2018.0      3  Wilayah Jakarta Pusat           AIDS    279    NaN"
            ]
          },
          "metadata": {},
          "execution_count": 4
        }
      ]
    },
    {
      "cell_type": "code",
      "metadata": {
        "colab": {
          "base_uri": "https://localhost:8080/",
          "height": 206
        },
        "id": "kUc3V8o3jNng",
        "outputId": "393a4159-0e90-470c-e5f0-db7601274379"
      },
      "source": [
        "# menampilkan 5 baris akir data\n",
        "data.tail()"
      ],
      "id": "kUc3V8o3jNng",
      "execution_count": 5,
      "outputs": [
        {
          "output_type": "execute_result",
          "data": {
            "text/html": [
              "<div>\n",
              "<style scoped>\n",
              "    .dataframe tbody tr th:only-of-type {\n",
              "        vertical-align: middle;\n",
              "    }\n",
              "\n",
              "    .dataframe tbody tr th {\n",
              "        vertical-align: top;\n",
              "    }\n",
              "\n",
              "    .dataframe thead th {\n",
              "        text-align: right;\n",
              "    }\n",
              "</style>\n",
              "<table border=\"1\" class=\"dataframe\">\n",
              "  <thead>\n",
              "    <tr style=\"text-align: right;\">\n",
              "      <th></th>\n",
              "      <th>tahun</th>\n",
              "      <th>bulan</th>\n",
              "      <th>wilayah</th>\n",
              "      <th>jenis_penyakit</th>\n",
              "      <th>jumlah</th>\n",
              "      <th>tahun</th>\n",
              "    </tr>\n",
              "  </thead>\n",
              "  <tbody>\n",
              "    <tr>\n",
              "      <th>25</th>\n",
              "      <td>2018.0</td>\n",
              "      <td>12</td>\n",
              "      <td>wilayah kep. seribu</td>\n",
              "      <td>tb</td>\n",
              "      <td>37</td>\n",
              "      <td>NaN</td>\n",
              "    </tr>\n",
              "    <tr>\n",
              "      <th>26</th>\n",
              "      <td>2018.0</td>\n",
              "      <td>12</td>\n",
              "      <td>wilayah kep. seribu</td>\n",
              "      <td>dbd</td>\n",
              "      <td>8</td>\n",
              "      <td>NaN</td>\n",
              "    </tr>\n",
              "    <tr>\n",
              "      <th>27</th>\n",
              "      <td>2018.0</td>\n",
              "      <td>12</td>\n",
              "      <td>wilayah kep. seribu</td>\n",
              "      <td>difteri</td>\n",
              "      <td>-</td>\n",
              "      <td>NaN</td>\n",
              "    </tr>\n",
              "    <tr>\n",
              "      <th>28</th>\n",
              "      <td>2018.0</td>\n",
              "      <td>12</td>\n",
              "      <td>wilayah kep. seribu</td>\n",
              "      <td>hiv</td>\n",
              "      <td>3</td>\n",
              "      <td>NaN</td>\n",
              "    </tr>\n",
              "    <tr>\n",
              "      <th>29</th>\n",
              "      <td>2018.0</td>\n",
              "      <td>12</td>\n",
              "      <td>wilayah kep. seribu</td>\n",
              "      <td>aids</td>\n",
              "      <td>0</td>\n",
              "      <td>NaN</td>\n",
              "    </tr>\n",
              "  </tbody>\n",
              "</table>\n",
              "</div>"
            ],
            "text/plain": [
              "    tahun   bulan              wilayah jenis_penyakit            jumlah  tahun\n",
              "25  2018.0     12  wilayah kep. seribu             tb                37    NaN\n",
              "26  2018.0     12  wilayah kep. seribu            dbd                 8    NaN\n",
              "27  2018.0     12  wilayah kep. seribu        difteri              -       NaN\n",
              "28  2018.0     12  wilayah kep. seribu            hiv                 3    NaN\n",
              "29  2018.0     12  wilayah kep. seribu           aids                 0    NaN"
            ]
          },
          "metadata": {},
          "execution_count": 5
        }
      ]
    },
    {
      "cell_type": "markdown",
      "metadata": {
        "id": "8c72f7dd"
      },
      "source": [
        "## Menelaah Data"
      ],
      "id": "8c72f7dd"
    },
    {
      "cell_type": "code",
      "metadata": {
        "colab": {
          "base_uri": "https://localhost:8080/"
        },
        "id": "c55d0ac8",
        "outputId": "349c729d-ae18-4096-fb2d-b78c6c02871b"
      },
      "source": [
        "# mengungkap tipe-tipe data dari setiap kolom\n",
        "print(data.dtypes)"
      ],
      "id": "c55d0ac8",
      "execution_count": 6,
      "outputs": [
        {
          "output_type": "stream",
          "name": "stdout",
          "text": [
            "tahun             float64\n",
            "bulan               int64\n",
            "wilayah            object\n",
            "jenis_penyakit     object\n",
            "jumlah             object\n",
            "tahun             float64\n",
            "dtype: object\n"
          ]
        }
      ]
    },
    {
      "cell_type": "markdown",
      "metadata": {
        "id": "RFnsL8Xojd3k"
      },
      "source": [
        "Karena data tahun dan bulan adalah sesuatu yang bersifat konstan (sekitaran bulan Maret, September dan Desember tahun 2018). Kita ambil langkah untuk menghitung jumlah penyakit saja terlebih dahulu."
      ],
      "id": "RFnsL8Xojd3k"
    },
    {
      "cell_type": "code",
      "metadata": {
        "colab": {
          "base_uri": "https://localhost:8080/"
        },
        "id": "Gf6LUBDokJgm",
        "outputId": "7f501b27-ee86-4dbb-db3f-b813f50a6c3f"
      },
      "source": [
        "# menghapus kolom yang berlebih \n",
        "data = data.drop(columns=['tahun'])\n",
        "print(data.dtypes)"
      ],
      "id": "Gf6LUBDokJgm",
      "execution_count": 7,
      "outputs": [
        {
          "output_type": "stream",
          "name": "stdout",
          "text": [
            "tahun             float64\n",
            "bulan               int64\n",
            "wilayah            object\n",
            "jenis_penyakit     object\n",
            "jumlah             object\n",
            "dtype: object\n"
          ]
        }
      ]
    },
    {
      "cell_type": "code",
      "metadata": {
        "colab": {
          "base_uri": "https://localhost:8080/",
          "height": 423
        },
        "id": "7300e862",
        "outputId": "0b6e7431-1983-47a2-81fb-41cc6f14cc8b"
      },
      "source": [
        "data_clean = data.iloc[:,-3:]\n",
        "data_clean"
      ],
      "id": "7300e862",
      "execution_count": 8,
      "outputs": [
        {
          "output_type": "execute_result",
          "data": {
            "text/html": [
              "<div>\n",
              "<style scoped>\n",
              "    .dataframe tbody tr th:only-of-type {\n",
              "        vertical-align: middle;\n",
              "    }\n",
              "\n",
              "    .dataframe tbody tr th {\n",
              "        vertical-align: top;\n",
              "    }\n",
              "\n",
              "    .dataframe thead th {\n",
              "        text-align: right;\n",
              "    }\n",
              "</style>\n",
              "<table border=\"1\" class=\"dataframe\">\n",
              "  <thead>\n",
              "    <tr style=\"text-align: right;\">\n",
              "      <th></th>\n",
              "      <th>wilayah</th>\n",
              "      <th>jenis_penyakit</th>\n",
              "      <th>jumlah</th>\n",
              "    </tr>\n",
              "  </thead>\n",
              "  <tbody>\n",
              "    <tr>\n",
              "      <th>0</th>\n",
              "      <td>Wilayah Jakarta Pusat</td>\n",
              "      <td>TB</td>\n",
              "      <td>129</td>\n",
              "    </tr>\n",
              "    <tr>\n",
              "      <th>1</th>\n",
              "      <td>Wilayah Jakarta Pusat</td>\n",
              "      <td>DBD</td>\n",
              "      <td>8</td>\n",
              "    </tr>\n",
              "    <tr>\n",
              "      <th>2</th>\n",
              "      <td>Wilayah Jakarta Pusat</td>\n",
              "      <td>Difteri</td>\n",
              "      <td>6</td>\n",
              "    </tr>\n",
              "    <tr>\n",
              "      <th>3</th>\n",
              "      <td>Wilayah Jakarta Pusat</td>\n",
              "      <td>HIV</td>\n",
              "      <td>2240</td>\n",
              "    </tr>\n",
              "    <tr>\n",
              "      <th>4</th>\n",
              "      <td>Wilayah Jakarta Pusat</td>\n",
              "      <td>AIDS</td>\n",
              "      <td>279</td>\n",
              "    </tr>\n",
              "    <tr>\n",
              "      <th>...</th>\n",
              "      <td>...</td>\n",
              "      <td>...</td>\n",
              "      <td>...</td>\n",
              "    </tr>\n",
              "    <tr>\n",
              "      <th>25</th>\n",
              "      <td>wilayah kep. seribu</td>\n",
              "      <td>tb</td>\n",
              "      <td>37</td>\n",
              "    </tr>\n",
              "    <tr>\n",
              "      <th>26</th>\n",
              "      <td>wilayah kep. seribu</td>\n",
              "      <td>dbd</td>\n",
              "      <td>8</td>\n",
              "    </tr>\n",
              "    <tr>\n",
              "      <th>27</th>\n",
              "      <td>wilayah kep. seribu</td>\n",
              "      <td>difteri</td>\n",
              "      <td>-</td>\n",
              "    </tr>\n",
              "    <tr>\n",
              "      <th>28</th>\n",
              "      <td>wilayah kep. seribu</td>\n",
              "      <td>hiv</td>\n",
              "      <td>3</td>\n",
              "    </tr>\n",
              "    <tr>\n",
              "      <th>29</th>\n",
              "      <td>wilayah kep. seribu</td>\n",
              "      <td>aids</td>\n",
              "      <td>0</td>\n",
              "    </tr>\n",
              "  </tbody>\n",
              "</table>\n",
              "<p>90 rows × 3 columns</p>\n",
              "</div>"
            ],
            "text/plain": [
              "                  wilayah jenis_penyakit            jumlah\n",
              "0   Wilayah Jakarta Pusat             TB               129\n",
              "1   Wilayah Jakarta Pusat            DBD                 8\n",
              "2   Wilayah Jakarta Pusat        Difteri                 6\n",
              "3   Wilayah Jakarta Pusat           HIV               2240\n",
              "4   Wilayah Jakarta Pusat           AIDS               279\n",
              "..                    ...            ...               ...\n",
              "25    wilayah kep. seribu             tb                37\n",
              "26    wilayah kep. seribu            dbd                 8\n",
              "27    wilayah kep. seribu        difteri              -   \n",
              "28    wilayah kep. seribu            hiv                 3\n",
              "29    wilayah kep. seribu           aids                 0\n",
              "\n",
              "[90 rows x 3 columns]"
            ]
          },
          "metadata": {},
          "execution_count": 8
        }
      ]
    },
    {
      "cell_type": "code",
      "metadata": {
        "colab": {
          "base_uri": "https://localhost:8080/",
          "height": 174
        },
        "id": "7dd2c217",
        "outputId": "e7bba3e8-90e2-4727-aef3-cbd9a6ad8ea7"
      },
      "source": [
        "data_clean.describe()"
      ],
      "id": "7dd2c217",
      "execution_count": 9,
      "outputs": [
        {
          "output_type": "execute_result",
          "data": {
            "text/html": [
              "<div>\n",
              "<style scoped>\n",
              "    .dataframe tbody tr th:only-of-type {\n",
              "        vertical-align: middle;\n",
              "    }\n",
              "\n",
              "    .dataframe tbody tr th {\n",
              "        vertical-align: top;\n",
              "    }\n",
              "\n",
              "    .dataframe thead th {\n",
              "        text-align: right;\n",
              "    }\n",
              "</style>\n",
              "<table border=\"1\" class=\"dataframe\">\n",
              "  <thead>\n",
              "    <tr style=\"text-align: right;\">\n",
              "      <th></th>\n",
              "      <th>wilayah</th>\n",
              "      <th>jenis_penyakit</th>\n",
              "      <th>jumlah</th>\n",
              "    </tr>\n",
              "  </thead>\n",
              "  <tbody>\n",
              "    <tr>\n",
              "      <th>count</th>\n",
              "      <td>90</td>\n",
              "      <td>90</td>\n",
              "      <td>90</td>\n",
              "    </tr>\n",
              "    <tr>\n",
              "      <th>unique</th>\n",
              "      <td>13</td>\n",
              "      <td>12</td>\n",
              "      <td>77</td>\n",
              "    </tr>\n",
              "    <tr>\n",
              "      <th>top</th>\n",
              "      <td>Wilayah Jakarta Selatan</td>\n",
              "      <td>DBD</td>\n",
              "      <td>-</td>\n",
              "    </tr>\n",
              "    <tr>\n",
              "      <th>freq</th>\n",
              "      <td>10</td>\n",
              "      <td>12</td>\n",
              "      <td>3</td>\n",
              "    </tr>\n",
              "  </tbody>\n",
              "</table>\n",
              "</div>"
            ],
            "text/plain": [
              "                        wilayah jenis_penyakit jumlah\n",
              "count                        90             90     90\n",
              "unique                       13             12     77\n",
              "top     Wilayah Jakarta Selatan            DBD   -   \n",
              "freq                         10             12      3"
            ]
          },
          "metadata": {},
          "execution_count": 9
        }
      ]
    },
    {
      "cell_type": "code",
      "metadata": {
        "colab": {
          "base_uri": "https://localhost:8080/"
        },
        "id": "d30c7f33",
        "outputId": "4dc49b5c-5f70-4c4e-88cb-1535ed780116"
      },
      "source": [
        "# mencari data yang hilang\n",
        "jumlah = data['jumlah']\n",
        "none = jumlah.str.contains('-')\n",
        "none.sum()"
      ],
      "id": "d30c7f33",
      "execution_count": 10,
      "outputs": [
        {
          "output_type": "execute_result",
          "data": {
            "text/plain": [
              "4"
            ]
          },
          "metadata": {},
          "execution_count": 10
        }
      ]
    },
    {
      "cell_type": "markdown",
      "metadata": {
        "id": "O3nKRqHokfex"
      },
      "source": [
        "ada 4 data yang mengandung '-'"
      ],
      "id": "O3nKRqHokfex"
    },
    {
      "cell_type": "code",
      "metadata": {
        "colab": {
          "base_uri": "https://localhost:8080/",
          "height": 174
        },
        "id": "s5Ew3MC2aKpo",
        "outputId": "f488cc56-0cc3-43df-b1d9-7a40d2f5ebc0"
      },
      "source": [
        "data[jumlah.str.contains('-')]"
      ],
      "id": "s5Ew3MC2aKpo",
      "execution_count": 11,
      "outputs": [
        {
          "output_type": "execute_result",
          "data": {
            "text/html": [
              "<div>\n",
              "<style scoped>\n",
              "    .dataframe tbody tr th:only-of-type {\n",
              "        vertical-align: middle;\n",
              "    }\n",
              "\n",
              "    .dataframe tbody tr th {\n",
              "        vertical-align: top;\n",
              "    }\n",
              "\n",
              "    .dataframe thead th {\n",
              "        text-align: right;\n",
              "    }\n",
              "</style>\n",
              "<table border=\"1\" class=\"dataframe\">\n",
              "  <thead>\n",
              "    <tr style=\"text-align: right;\">\n",
              "      <th></th>\n",
              "      <th>tahun</th>\n",
              "      <th>bulan</th>\n",
              "      <th>wilayah</th>\n",
              "      <th>jenis_penyakit</th>\n",
              "      <th>jumlah</th>\n",
              "    </tr>\n",
              "  </thead>\n",
              "  <tbody>\n",
              "    <tr>\n",
              "      <th>27</th>\n",
              "      <td>2018.0</td>\n",
              "      <td>3</td>\n",
              "      <td>Wilayah Kep. Seribu</td>\n",
              "      <td>Difteri</td>\n",
              "      <td>-</td>\n",
              "    </tr>\n",
              "    <tr>\n",
              "      <th>29</th>\n",
              "      <td>2018.0</td>\n",
              "      <td>3</td>\n",
              "      <td>Wilayah Kep. Seribu</td>\n",
              "      <td>AIDS</td>\n",
              "      <td>-</td>\n",
              "    </tr>\n",
              "    <tr>\n",
              "      <th>17</th>\n",
              "      <td>NaN</td>\n",
              "      <td>9</td>\n",
              "      <td>Wilayah Kep Seribu</td>\n",
              "      <td>DIFTERI</td>\n",
              "      <td>-</td>\n",
              "    </tr>\n",
              "    <tr>\n",
              "      <th>27</th>\n",
              "      <td>2018.0</td>\n",
              "      <td>12</td>\n",
              "      <td>wilayah kep. seribu</td>\n",
              "      <td>difteri</td>\n",
              "      <td>-</td>\n",
              "    </tr>\n",
              "  </tbody>\n",
              "</table>\n",
              "</div>"
            ],
            "text/plain": [
              "    tahun   bulan              wilayah jenis_penyakit            jumlah\n",
              "27  2018.0      3  Wilayah Kep. Seribu        Difteri              -   \n",
              "29  2018.0      3  Wilayah Kep. Seribu           AIDS              -   \n",
              "17     NaN      9   Wilayah Kep Seribu        DIFTERI              -   \n",
              "27  2018.0     12  wilayah kep. seribu        difteri              -   "
            ]
          },
          "metadata": {},
          "execution_count": 11
        }
      ]
    },
    {
      "cell_type": "markdown",
      "metadata": {
        "id": "KhGGYh42aPig"
      },
      "source": [
        "Terdapat nilai NaN pada bulan 9 di wilayah kep. seribu sehingga kita perlu menggantinya dengan tahun 2018 karena ini adalah data tahun 2018"
      ],
      "id": "KhGGYh42aPig"
    },
    {
      "cell_type": "code",
      "metadata": {
        "id": "VC3Zx0NNTDAZ",
        "colab": {
          "base_uri": "https://localhost:8080/",
          "height": 174
        },
        "outputId": "4db48d77-5c0e-4bf5-cf9f-7899bd561adf"
      },
      "source": [
        "# mengganti data yang hilang dengan tahun 2018\n",
        "data = data.fillna(2018)\n",
        "\n",
        "# cek kembali data yang mengandung non angka '-'\n",
        "data[data['jumlah'].str.match('[^0-9]')] "
      ],
      "id": "VC3Zx0NNTDAZ",
      "execution_count": 12,
      "outputs": [
        {
          "output_type": "execute_result",
          "data": {
            "text/html": [
              "<div>\n",
              "<style scoped>\n",
              "    .dataframe tbody tr th:only-of-type {\n",
              "        vertical-align: middle;\n",
              "    }\n",
              "\n",
              "    .dataframe tbody tr th {\n",
              "        vertical-align: top;\n",
              "    }\n",
              "\n",
              "    .dataframe thead th {\n",
              "        text-align: right;\n",
              "    }\n",
              "</style>\n",
              "<table border=\"1\" class=\"dataframe\">\n",
              "  <thead>\n",
              "    <tr style=\"text-align: right;\">\n",
              "      <th></th>\n",
              "      <th>tahun</th>\n",
              "      <th>bulan</th>\n",
              "      <th>wilayah</th>\n",
              "      <th>jenis_penyakit</th>\n",
              "      <th>jumlah</th>\n",
              "    </tr>\n",
              "  </thead>\n",
              "  <tbody>\n",
              "    <tr>\n",
              "      <th>27</th>\n",
              "      <td>2018.0</td>\n",
              "      <td>3</td>\n",
              "      <td>Wilayah Kep. Seribu</td>\n",
              "      <td>Difteri</td>\n",
              "      <td>-</td>\n",
              "    </tr>\n",
              "    <tr>\n",
              "      <th>29</th>\n",
              "      <td>2018.0</td>\n",
              "      <td>3</td>\n",
              "      <td>Wilayah Kep. Seribu</td>\n",
              "      <td>AIDS</td>\n",
              "      <td>-</td>\n",
              "    </tr>\n",
              "    <tr>\n",
              "      <th>17</th>\n",
              "      <td>2018.0</td>\n",
              "      <td>9</td>\n",
              "      <td>Wilayah Kep Seribu</td>\n",
              "      <td>DIFTERI</td>\n",
              "      <td>-</td>\n",
              "    </tr>\n",
              "    <tr>\n",
              "      <th>27</th>\n",
              "      <td>2018.0</td>\n",
              "      <td>12</td>\n",
              "      <td>wilayah kep. seribu</td>\n",
              "      <td>difteri</td>\n",
              "      <td>-</td>\n",
              "    </tr>\n",
              "  </tbody>\n",
              "</table>\n",
              "</div>"
            ],
            "text/plain": [
              "    tahun   bulan              wilayah jenis_penyakit            jumlah\n",
              "27  2018.0      3  Wilayah Kep. Seribu        Difteri              -   \n",
              "29  2018.0      3  Wilayah Kep. Seribu           AIDS              -   \n",
              "17  2018.0      9   Wilayah Kep Seribu        DIFTERI              -   \n",
              "27  2018.0     12  wilayah kep. seribu        difteri              -   "
            ]
          },
          "metadata": {},
          "execution_count": 12
        }
      ]
    },
    {
      "cell_type": "markdown",
      "metadata": {
        "id": "XAcNdMy1acZt"
      },
      "source": [
        "oke sekarang data sudah bersih, namun untuk kata difteri masih belum seimbang, kita abaikan saja dulu untuk sementara waktu kita gantikan nilai '-' pada jumlah."
      ],
      "id": "XAcNdMy1acZt"
    },
    {
      "cell_type": "code",
      "metadata": {
        "colab": {
          "base_uri": "https://localhost:8080/",
          "height": 174
        },
        "id": "8cBp5JWgeH2Q",
        "outputId": "bf9d9193-c53e-4d87-d01f-74d3a05e8a32"
      },
      "source": [
        "data[data['jumlah'].str.match('[^0-9]')] "
      ],
      "id": "8cBp5JWgeH2Q",
      "execution_count": 13,
      "outputs": [
        {
          "output_type": "execute_result",
          "data": {
            "text/html": [
              "<div>\n",
              "<style scoped>\n",
              "    .dataframe tbody tr th:only-of-type {\n",
              "        vertical-align: middle;\n",
              "    }\n",
              "\n",
              "    .dataframe tbody tr th {\n",
              "        vertical-align: top;\n",
              "    }\n",
              "\n",
              "    .dataframe thead th {\n",
              "        text-align: right;\n",
              "    }\n",
              "</style>\n",
              "<table border=\"1\" class=\"dataframe\">\n",
              "  <thead>\n",
              "    <tr style=\"text-align: right;\">\n",
              "      <th></th>\n",
              "      <th>tahun</th>\n",
              "      <th>bulan</th>\n",
              "      <th>wilayah</th>\n",
              "      <th>jenis_penyakit</th>\n",
              "      <th>jumlah</th>\n",
              "    </tr>\n",
              "  </thead>\n",
              "  <tbody>\n",
              "    <tr>\n",
              "      <th>27</th>\n",
              "      <td>2018.0</td>\n",
              "      <td>3</td>\n",
              "      <td>Wilayah Kep. Seribu</td>\n",
              "      <td>Difteri</td>\n",
              "      <td>-</td>\n",
              "    </tr>\n",
              "    <tr>\n",
              "      <th>29</th>\n",
              "      <td>2018.0</td>\n",
              "      <td>3</td>\n",
              "      <td>Wilayah Kep. Seribu</td>\n",
              "      <td>AIDS</td>\n",
              "      <td>-</td>\n",
              "    </tr>\n",
              "    <tr>\n",
              "      <th>17</th>\n",
              "      <td>2018.0</td>\n",
              "      <td>9</td>\n",
              "      <td>Wilayah Kep Seribu</td>\n",
              "      <td>DIFTERI</td>\n",
              "      <td>-</td>\n",
              "    </tr>\n",
              "    <tr>\n",
              "      <th>27</th>\n",
              "      <td>2018.0</td>\n",
              "      <td>12</td>\n",
              "      <td>wilayah kep. seribu</td>\n",
              "      <td>difteri</td>\n",
              "      <td>-</td>\n",
              "    </tr>\n",
              "  </tbody>\n",
              "</table>\n",
              "</div>"
            ],
            "text/plain": [
              "    tahun   bulan              wilayah jenis_penyakit            jumlah\n",
              "27  2018.0      3  Wilayah Kep. Seribu        Difteri              -   \n",
              "29  2018.0      3  Wilayah Kep. Seribu           AIDS              -   \n",
              "17  2018.0      9   Wilayah Kep Seribu        DIFTERI              -   \n",
              "27  2018.0     12  wilayah kep. seribu        difteri              -   "
            ]
          },
          "metadata": {},
          "execution_count": 13
        }
      ]
    },
    {
      "cell_type": "code",
      "metadata": {
        "colab": {
          "base_uri": "https://localhost:8080/"
        },
        "id": "-kaXlP8VbeAk",
        "outputId": "6174bfa9-b211-41ab-c26f-4a0805c835b0"
      },
      "source": [
        "# cek tipe data\n",
        "data_clean['jumlah'].dtypes"
      ],
      "id": "-kaXlP8VbeAk",
      "execution_count": 14,
      "outputs": [
        {
          "output_type": "execute_result",
          "data": {
            "text/plain": [
              "dtype('O')"
            ]
          },
          "metadata": {},
          "execution_count": 14
        }
      ]
    },
    {
      "cell_type": "code",
      "metadata": {
        "id": "gswwZ7LxZ_74"
      },
      "source": [
        "# menggantikan nilai '-' dengan nilai 0 pada data\n",
        "data_clean['jumlah'] = jumlah.replace(to_replace='[^0-9]', value=0, regex=True)"
      ],
      "id": "gswwZ7LxZ_74",
      "execution_count": 15,
      "outputs": []
    },
    {
      "cell_type": "markdown",
      "metadata": {
        "id": "vUPzc1LuhHTM"
      },
      "source": [
        "Semua data jumlah sudah dalam bentuk numerik sehingga kita bisa mengubah dtype dari datanya sebagai numerik dengan perintah `.astype()`"
      ],
      "id": "vUPzc1LuhHTM"
    },
    {
      "cell_type": "code",
      "metadata": {
        "colab": {
          "base_uri": "https://localhost:8080/"
        },
        "id": "Qumm-VU5THaj",
        "outputId": "65ff2db6-a71a-45e0-dcbc-93cdf647172f"
      },
      "source": [
        "# ubah data kolom jumlah menjadi bentuk int64 \n",
        "data_clean['jumlah'] = data_clean['jumlah'].astype('int64')\n",
        "data_clean.info()"
      ],
      "id": "Qumm-VU5THaj",
      "execution_count": 16,
      "outputs": [
        {
          "output_type": "stream",
          "name": "stdout",
          "text": [
            "<class 'pandas.core.frame.DataFrame'>\n",
            "Int64Index: 90 entries, 0 to 29\n",
            "Data columns (total 3 columns):\n",
            " #   Column          Non-Null Count  Dtype \n",
            "---  ------          --------------  ----- \n",
            " 0   wilayah         90 non-null     object\n",
            " 1   jenis_penyakit  90 non-null     object\n",
            " 2   jumlah          90 non-null     int64 \n",
            "dtypes: int64(1), object(2)\n",
            "memory usage: 2.8+ KB\n"
          ]
        }
      ]
    },
    {
      "cell_type": "code",
      "metadata": {
        "id": "ObRWLplkTJDn",
        "colab": {
          "base_uri": "https://localhost:8080/",
          "height": 300
        },
        "outputId": "aff4de68-8c8f-4b19-a2da-eb11769d6b00"
      },
      "source": [
        "# lihat statistik\n",
        "data_clean.describe()"
      ],
      "id": "ObRWLplkTJDn",
      "execution_count": 17,
      "outputs": [
        {
          "output_type": "execute_result",
          "data": {
            "text/html": [
              "<div>\n",
              "<style scoped>\n",
              "    .dataframe tbody tr th:only-of-type {\n",
              "        vertical-align: middle;\n",
              "    }\n",
              "\n",
              "    .dataframe tbody tr th {\n",
              "        vertical-align: top;\n",
              "    }\n",
              "\n",
              "    .dataframe thead th {\n",
              "        text-align: right;\n",
              "    }\n",
              "</style>\n",
              "<table border=\"1\" class=\"dataframe\">\n",
              "  <thead>\n",
              "    <tr style=\"text-align: right;\">\n",
              "      <th></th>\n",
              "      <th>jumlah</th>\n",
              "    </tr>\n",
              "  </thead>\n",
              "  <tbody>\n",
              "    <tr>\n",
              "      <th>count</th>\n",
              "      <td>90.000000</td>\n",
              "    </tr>\n",
              "    <tr>\n",
              "      <th>mean</th>\n",
              "      <td>447.111111</td>\n",
              "    </tr>\n",
              "    <tr>\n",
              "      <th>std</th>\n",
              "      <td>881.657191</td>\n",
              "    </tr>\n",
              "    <tr>\n",
              "      <th>min</th>\n",
              "      <td>0.000000</td>\n",
              "    </tr>\n",
              "    <tr>\n",
              "      <th>25%</th>\n",
              "      <td>8.000000</td>\n",
              "    </tr>\n",
              "    <tr>\n",
              "      <th>50%</th>\n",
              "      <td>44.500000</td>\n",
              "    </tr>\n",
              "    <tr>\n",
              "      <th>75%</th>\n",
              "      <td>615.250000</td>\n",
              "    </tr>\n",
              "    <tr>\n",
              "      <th>max</th>\n",
              "      <td>5507.000000</td>\n",
              "    </tr>\n",
              "  </tbody>\n",
              "</table>\n",
              "</div>"
            ],
            "text/plain": [
              "            jumlah\n",
              "count    90.000000\n",
              "mean    447.111111\n",
              "std     881.657191\n",
              "min       0.000000\n",
              "25%       8.000000\n",
              "50%      44.500000\n",
              "75%     615.250000\n",
              "max    5507.000000"
            ]
          },
          "metadata": {},
          "execution_count": 17
        }
      ]
    },
    {
      "cell_type": "markdown",
      "metadata": {
        "id": "9d8kRj_pheez"
      },
      "source": [
        "Kita lihat kembali bentuk data"
      ],
      "id": "9d8kRj_pheez"
    },
    {
      "cell_type": "code",
      "metadata": {
        "colab": {
          "base_uri": "https://localhost:8080/"
        },
        "id": "dPivjKBScKr4",
        "outputId": "38b72452-adae-4553-ad69-810b61b97e38"
      },
      "source": [
        "# lihat perkembangan data berdasarkan wilayah\n",
        "data_clean.groupby('wilayah')['jumlah'].std()"
      ],
      "id": "dPivjKBScKr4",
      "execution_count": 18,
      "outputs": [
        {
          "output_type": "execute_result",
          "data": {
            "text/plain": [
              "wilayah\n",
              "Wilayah Jakarta Barat      1176.678206\n",
              "Wilayah Jakarta Pusat      1001.275431\n",
              "Wilayah Jakarta Selatan     867.235871\n",
              "Wilayah Jakarta Timur      1665.461461\n",
              "Wilayah Jakarta Utara       702.810777\n",
              "Wilayah Kep Seribu           14.909728\n",
              "Wilayah Kep. Seribu           6.379655\n",
              "wilayah jakarta barat       370.661975\n",
              "wilayah jakarta pusat        85.915656\n",
              "wilayah jakarta selatan     406.378764\n",
              "wilayah jakarta timur       350.947717\n",
              "wilayah jakarta utara       391.121081\n",
              "wilayah kep. seribu          15.662056\n",
              "Name: jumlah, dtype: float64"
            ]
          },
          "metadata": {},
          "execution_count": 18
        }
      ]
    },
    {
      "cell_type": "markdown",
      "metadata": {
        "id": "tRp86Qx-hi35"
      },
      "source": [
        "Ternyata masih belum pas, setelah ini kita akan kembali membersihkan data."
      ],
      "id": "tRp86Qx-hi35"
    },
    {
      "cell_type": "code",
      "metadata": {
        "colab": {
          "base_uri": "https://localhost:8080/"
        },
        "id": "o-ljTB8dgoCr",
        "outputId": "5965836c-42e3-4fe0-da77-6b14d47b2e5f"
      },
      "source": [
        "# lihat perkembangan data berdasarkan jenis penyakit\n",
        "data_clean.groupby('jenis_penyakit')['jumlah'].std()"
      ],
      "id": "o-ljTB8dgoCr",
      "execution_count": 19,
      "outputs": [
        {
          "output_type": "execute_result",
          "data": {
            "text/plain": [
              "jenis_penyakit\n",
              "AIDS         79.473790\n",
              "DBD         294.065894\n",
              "DIFTERI      11.303392\n",
              "Difteri       4.119061\n",
              "HIV         476.287063\n",
              "HIV         757.039167\n",
              "TB         1728.767793\n",
              "aids         69.700550\n",
              "dbd         367.214923\n",
              "difteri      12.937027\n",
              "hiv         470.706136\n",
              "tb           15.105187\n",
              "Name: jumlah, dtype: float64"
            ]
          },
          "metadata": {},
          "execution_count": 19
        }
      ]
    },
    {
      "cell_type": "markdown",
      "metadata": {
        "id": "tkJURtKahy47"
      },
      "source": [
        "Untuk jenis penyakit juga sama, setelah ini kita juga akan kembali membersihkan data"
      ],
      "id": "tkJURtKahy47"
    },
    {
      "cell_type": "code",
      "metadata": {
        "id": "zt7yzZi1g-TR"
      },
      "source": [
        ""
      ],
      "id": "zt7yzZi1g-TR",
      "execution_count": 19,
      "outputs": []
    }
  ]
}